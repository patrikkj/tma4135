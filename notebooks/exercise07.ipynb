{
 "cells": [
  {
   "cell_type": "code",
   "execution_count": 1,
   "metadata": {},
   "outputs": [],
   "source": [
    "from numpy import *\n",
    "from matplotlib.pyplot import *\n",
    "\n",
    "# For plotting. \n",
    "newparams = {'figure.figsize': (8.0, 4.0), 'axes.grid': True,\n",
    "             'lines.markersize': 8, 'lines.linewidth': 2,\n",
    "             'font.size': 16}\n",
    "rcParams.update(newparams)"
   ]
  },
  {
   "cell_type": "markdown",
   "metadata": {},
   "source": [
    "### Oppgave 1"
   ]
  },
  {
   "cell_type": "code",
   "execution_count": 2,
   "metadata": {},
   "outputs": [],
   "source": [
    "def cardinal(xdata, x):\n",
    "    \"\"\"\n",
    "    cardinal(xdata, x): \n",
    "    In: xdata, array with the nodes x_i.\n",
    "        x, array or a scalar of values in which the cardinal functions are evaluated.\n",
    "    Return: l: a list of arrays of the cardinal functions evaluated in x. \n",
    "    \"\"\"\n",
    "    n = len(xdata)              # Number of evaluation points x\n",
    "    l = []\n",
    "    for i in range(n):          # Loop over the cardinal functions\n",
    "        li = ones(len(x))\n",
    "        for j in range(n):      # Loop to make the product for l_i\n",
    "            if i is not j:\n",
    "                li = li*(x-xdata[j])/(xdata[i]-xdata[j])\n",
    "        l.append(li)            # Append the array to the list            \n",
    "    return l\n",
    "\n",
    "def lagrange(ydata, l):\n",
    "    \"\"\"\n",
    "    lagrange(ydata, l):\n",
    "    In: ydata, array of the y-values of the interpolation points.\n",
    "         l, a list of the cardinal functions, given by cardinal(xdata, x)\n",
    "    Return: An array with the interpolation polynomial. \n",
    "    \"\"\"\n",
    "    poly = 0                        \n",
    "    for i in range(len(ydata)):\n",
    "        poly = poly + ydata[i]*l[i]  \n",
    "    return poly"
   ]
  },
  {
   "cell_type": "code",
   "execution_count": 3,
   "metadata": {},
   "outputs": [
    {
     "data": {
      "image/png": "[encoded data removed]",
      "text/plain": [
       "<Figure size 432x288 with 1 Axes>"
      ]
     },
     "metadata": {
      "needs_background": "light"
     },
     "output_type": "display_data"
    }
   ],
   "source": [
    "x_data = [-1, -1/2, 1/2, 1]\n",
    "y_data = [-1/2, -5/4, 1/4, 5/2]\n",
    "\n",
    "x = linspace(-1.5, 1.4, 101)\n",
    "\n",
    "plot(x, 2*x**2 + (3/2)*x - 1)\n",
    "plot(x_data, y_data, 'o');\n",
    "\n",
    "#l = cardinal(x_data, x)\n",
    "#p = lagrange(y_data, l)\n",
    "\n",
    "#plot(x, p);"
   ]
  },
  {
   "cell_type": "markdown",
   "metadata": {},
   "source": [
    "### Oppgave 2"
   ]
  },
  {
   "cell_type": "code",
   "execution_count": 4,
   "metadata": {},
   "outputs": [
    {
     "name": "stdout",
     "output_type": "stream",
     "text": [
      "Year = 2000\t Population = 4449960\n",
      "Year = 2010\t Population = 4857131\n",
      "Year = 2025\t Population = 4884810\n",
      "Year = 2030\t Population = 3369091\n"
     ]
    },
    {
     "data": {
      "image/png": "[encoded data removed]",
      "text/plain": [
       "<Figure size 432x288 with 1 Axes>"
      ]
     },
     "metadata": {
      "needs_background": "light"
     },
     "output_type": "display_data"
    }
   ],
   "source": [
    "years = [1993, 1998, 203, 2008, 2013, 2018]\n",
    "population = [4299167, 4417599, 4552252, 4737171, 5051275, 5295619]\n",
    "\n",
    "# Interpolation \n",
    "x1 = linspace(1993, 2018, 101)\n",
    "l1 = cardinal(years, x1)\n",
    "p1 = lagrange(population, l1)\n",
    "\n",
    "# Extrapolation\n",
    "x2 = linspace(2018, 2030, 101)\n",
    "l2 = cardinal(years, x2)\n",
    "p2 = lagrange(population, l2)\n",
    "\n",
    "# Test points\n",
    "x3 = array([2000, 2010, 2025, 2030])\n",
    "l3 = cardinal(years, x3)\n",
    "p3 = lagrange(population, l3)\n",
    "\n",
    "points = list(zip(x3, p3))\n",
    "\n",
    "# Print plots\n",
    "plot(x1, p1)\n",
    "plot(x2, p2, 'r--')\n",
    "plot(x3, p3, 'og')\n",
    "\n",
    "# Print points\n",
    "for point in points:\n",
    "    print('Year = {:.0f}\\t Population = {:.0f}'.format(*point));"
   ]
  },
  {
   "cell_type": "markdown",
   "metadata": {},
   "source": [
    "#### Kommentar\n",
    "Som vi ser, vil polynominterpolasjonen gi uønskede resultater utenfor interpolasjonsdomenet. Interpolasjon er egnet til approksimasjon av funksjoner innenfor interpolasjonsdomenet, ikke utenfor (såkalt ekstrapolasjon)."
   ]
  },
  {
   "cell_type": "markdown",
   "metadata": {},
   "source": [
    "### Oppgave 3"
   ]
  },
  {
   "cell_type": "code",
   "execution_count": 1,
   "metadata": {},
   "outputs": [
    {
     "ename": "NameError",
     "evalue": "name 'linspace' is not defined",
     "output_type": "error",
     "traceback": [
      "\u001b[1;31m---------------------------------------------------------------------------\u001b[0m",
      "\u001b[1;31mNameError\u001b[0m                                 Traceback (most recent call last)",
      "\u001b[1;32m<ipython-input-1-2fe60adb8487>\u001b[0m in \u001b[0;36m<module>\u001b[1;34m()\u001b[0m\n\u001b[0;32m      1\u001b[0m \u001b[0mx_data\u001b[0m \u001b[1;33m=\u001b[0m \u001b[1;33m[\u001b[0m\u001b[1;33m-\u001b[0m\u001b[1;36m1\u001b[0m\u001b[1;33m,\u001b[0m \u001b[1;36m0\u001b[0m\u001b[1;33m,\u001b[0m \u001b[1;36m1\u001b[0m\u001b[1;33m,\u001b[0m \u001b[1;36m2\u001b[0m\u001b[1;33m]\u001b[0m\u001b[1;33m\u001b[0m\u001b[0m\n\u001b[0;32m      2\u001b[0m \u001b[0my_data\u001b[0m \u001b[1;33m=\u001b[0m \u001b[1;33m[\u001b[0m\u001b[1;36m0.54\u001b[0m\u001b[1;33m,\u001b[0m \u001b[1;36m0\u001b[0m\u001b[1;33m,\u001b[0m \u001b[1;36m0.54\u001b[0m\u001b[1;33m,\u001b[0m \u001b[1;33m-\u001b[0m\u001b[1;36m1.66\u001b[0m\u001b[1;33m]\u001b[0m\u001b[1;33m\u001b[0m\u001b[0m\n\u001b[1;32m----> 3\u001b[1;33m \u001b[0mx\u001b[0m \u001b[1;33m=\u001b[0m \u001b[0mlinspace\u001b[0m\u001b[1;33m(\u001b[0m\u001b[1;33m-\u001b[0m\u001b[1;36m1\u001b[0m\u001b[1;33m,\u001b[0m \u001b[1;36m2\u001b[0m\u001b[1;33m,\u001b[0m \u001b[1;36m101\u001b[0m\u001b[1;33m)\u001b[0m\u001b[1;33m\u001b[0m\u001b[0m\n\u001b[0m\u001b[0;32m      4\u001b[0m \u001b[1;33m\u001b[0m\u001b[0m\n\u001b[0;32m      5\u001b[0m \u001b[1;32mdef\u001b[0m \u001b[0mf\u001b[0m\u001b[1;33m(\u001b[0m\u001b[0mx\u001b[0m\u001b[1;33m)\u001b[0m\u001b[1;33m:\u001b[0m\u001b[1;33m\u001b[0m\u001b[0m\n",
      "\u001b[1;31mNameError\u001b[0m: name 'linspace' is not defined"
     ]
    }
   ],
   "source": [
    "x_data = [-1, 0, 1, 2]\n",
    "y_data = [0.54, 0, 0.54, -1.66]\n",
    "x = linspace(-1, 2, 101)\n",
    "\n",
    "def f(x):\n",
    "    return [x**2 * cos(x) for x in x]\n",
    "def g(x):\n",
    "    return -0.64*x**3 + 0.54*x**2 + 0.64*x\n",
    "def h(x):\n",
    "    return -0.66*x**3 + 0.625*x**2 + 0.56*x + 0.0432\n",
    "\n",
    "# Print interpolation error\n",
    "print(\"Max error for equidistant nodes is {:.2e}\".format(max(abs(f(x)-g(x)))))\n",
    "print(\"Max error for chebyshev nodes is {:.2e}\".format(max(abs(f(x)-h(x)))))\n",
    "\n",
    "# Plot functions and interpolation points\n",
    "subplot(2, 1, 1)\n",
    "plot(x, f(x), '#1B5E20')\n",
    "plot(x, g(x))\n",
    "plot(x, h(x))\n",
    "plot(x_data, y_data, 'o', color=\"#212121\")\n",
    "legend(['Exact','Equidistant','Chebyshev'])\n",
    "\n",
    "# Plot interpolation error\n",
    "subplot(2, 1, 2)\n",
    "plot(x, f(x) - g(x))\n",
    "plot(x, f(x) - h(x))\n",
    "legend(['Equidistant','Chebyshev']);"
   ]
  },
  {
   "cell_type": "code",
   "execution_count": null,
   "metadata": {},
   "outputs": [],
   "source": []
  },
  {
   "cell_type": "code",
   "execution_count": null,
   "metadata": {},
   "outputs": [],
   "source": []
  }
 ],
 "metadata": {
  "kernelspec": {
   "display_name": "Python 3",
   "language": "python",
   "name": "python3"
  },
  "language_info": {
   "codemirror_mode": {
    "name": "ipython",
    "version": 3
   },
   "file_extension": ".py",
   "mimetype": "text/x-python",
   "name": "python",
   "nbconvert_exporter": "python",
   "pygments_lexer": "ipython3",
   "version": "3.7.0"
  }
 },
 "nbformat": 4,
 "nbformat_minor": 2
}
