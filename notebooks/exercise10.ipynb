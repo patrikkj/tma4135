{
 "cells": [
  {
   "cell_type": "code",
   "execution_count": 1,
   "metadata": {},
   "outputs": [],
   "source": [
    "%matplotlib inline\n",
    "import warnings\n",
    "from numpy import *\n",
    "from numpy.linalg import norm\n",
    "from matplotlib.pyplot import *\n",
    "newparams = {'figure.figsize': (8.0, 4.0), 'axes.grid': True,\n",
    "             'lines.markersize': 8, 'lines.linewidth': 2,\n",
    "             'font.size': 14}\n",
    "rcParams.update(newparams)\n",
    "warnings.filterwarnings('ignore')"
   ]
  },
  {
   "cell_type": "markdown",
   "metadata": {},
   "source": [
    "### Oppgave 3"
   ]
  },
  {
   "cell_type": "code",
   "execution_count": 2,
   "metadata": {},
   "outputs": [],
   "source": [
    "def ode_solver(f, x0, xend, y0, h, method):\n",
    "    # Initialization\n",
    "    y_num = array([y0])    # Array for the solution y \n",
    "    x_num = array([x0])    # Array for the x-values\n",
    "\n",
    "    xn = x0                # Running values for x and y\n",
    "    yn = y0 \n",
    "\n",
    "    # Main loop\n",
    "    while xn < xend - 1.e-10:            # Buffer for truncation errors        \n",
    "        xn, yn = method(f, xn, yn, h)    # Do one step by the method of choice\n",
    "        \n",
    "        # Extend the arrays for x and y\n",
    "        y_num = concatenate((y_num, array([yn])))\n",
    "        x_num = append(x_num, xn)\n",
    "        \n",
    "    return x_num, y_num"
   ]
  },
  {
   "cell_type": "code",
   "execution_count": 3,
   "metadata": {},
   "outputs": [],
   "source": [
    "def euler(f, x, y, h):\n",
    "    y_next = y + h*f(x, y)\n",
    "    x_next = x + h\n",
    "    return x_next, y_next"
   ]
  },
  {
   "cell_type": "code",
   "execution_count": 15,
   "metadata": {},
   "outputs": [],
   "source": [
    "def heun(f, x, y, h):\n",
    "    # One step of Heun's method\n",
    "    k1 = f(x, y)\n",
    "    k2 = f(x+h, y+h*k1)\n",
    "    y_next = y + 0.5*h*(k1+k2)\n",
    "    x_next = x + h\n",
    "    return x_next, y_next"
   ]
  },
  {
   "cell_type": "code",
   "execution_count": 16,
   "metadata": {},
   "outputs": [
    {
     "data": {
      "image/png": "[encoded data removed]",
      "text/plain": [
       "<Figure size 432x288 with 1 Axes>"
      ]
     },
     "metadata": {
      "needs_background": "light"
     },
     "output_type": "display_data"
    }
   ],
   "source": [
    "def f(x, y):\n",
    "    dy = array([y[1],\n",
    "            -1 / (y[0] - y[2])**2,\n",
    "            y[3],\n",
    "            1 / (y[0] - y[2])**2])\n",
    "    return dy\n",
    "\n",
    "\n",
    "x0, xend = 0, 1\n",
    "h = 0.1\n",
    "y0 = array([0, 1, 1, 0])\n",
    "\n",
    "x_num, y_num = ode_solver(f, x0, xend, y0, h, method=heun)\n",
    "u_num = y_num[:,(1, 3)]\n",
    "plot(x_num, u_num);\n",
    "title(\"System of charges, u1 and u2\");"
   ]
  },
  {
   "cell_type": "markdown",
   "metadata": {},
   "source": [
    "### Oppgave 4"
   ]
  },
  {
   "cell_type": "code",
   "execution_count": 17,
   "metadata": {},
   "outputs": [],
   "source": [
    "def RK4(f, x, y, h):\n",
    "    k1 = f(x, y)\n",
    "    k2 = f(x + h/2, y + h/2 * k1)\n",
    "    k3 = f(x + h/2, y + h/2 * k2)\n",
    "    k4 = f(x + h, y + h * k3)\n",
    "    x_next = x + h\n",
    "    y_next = y + h/6 * (k1 + 2*k2 + 2*k3 + k4)\n",
    "    return x_next, y_next"
   ]
  },
  {
   "cell_type": "code",
   "execution_count": 18,
   "metadata": {},
   "outputs": [],
   "source": [
    "def lotka_volterra(x, y):\n",
    "    alpha, beta, delta, gamma = 2, 1, 0.5, 1\n",
    "    dy = array([alpha*y[0]-beta*y[0]*y[1], \n",
    "                delta*y[0]*y[1]-gamma*y[1]])\n",
    "    return dy"
   ]
  },
  {
   "cell_type": "code",
   "execution_count": 19,
   "metadata": {},
   "outputs": [],
   "source": [
    "def convergence_table_ode(f, f_exact, x0, xend, y0, h, n, method):\n",
    "    \"\"\"\n",
    "    Creates a list of tuples of the form (step, y_num, error, order, constant).\n",
    "        f       : Multivariable function describing first derivative\n",
    "        f_exact : Function for evaluating exact endpoint value.\n",
    "        x0      : Initial x value\n",
    "        xend    : Endpoint value for x\n",
    "        y0      : Initial y value\n",
    "        h       : Initial step size\n",
    "        n       : Number of iterations\n",
    "        method  : Method for solving ODE\n",
    "    \"\"\"\n",
    "    # Initial setup\n",
    "    exact = f_exact(xend) if callable(f_exact) else f_exact\n",
    "    steps = []\n",
    "    numerical = []\n",
    "    errors = []\n",
    "    orders = [nan]\n",
    "    constants = [nan]\n",
    "\n",
    "    for _ in range(n):\n",
    "        x_num, y_num = ode_solver(f, x0, xend, y0, h, method)\n",
    "        y_last = y_num[-1]\n",
    "        error = abs(exact - y_last)\n",
    "        steps.append(h)\n",
    "        numerical.append(y_last)\n",
    "        errors.append(error)\n",
    "        h /= 2\n",
    "        \n",
    "    # Calculate p and c\n",
    "    for e_0, e_1, h_0, h_1 in zip(errors, errors[1:], steps, steps[1:]):\n",
    "        p = log(e_1/e_0)/log(h_1/h_0)\n",
    "        c = e_1/h_1**p\n",
    "        orders.append(p)\n",
    "        constants.append(c)\n",
    "    \n",
    "    return list(zip(steps, numerical, errors, orders, constants))"
   ]
  },
  {
   "cell_type": "code",
   "execution_count": 20,
   "metadata": {},
   "outputs": [
    {
     "name": "stdout",
     "output_type": "stream",
     "text": [
      "| Step size  | Numerical  |   Error    |   Order    |  Constant  |\n",
      "==================================================================\n",
      "| 1.0000e+00 | 3.3333e-01 | 3.4546e-02 |    nan     |    nan     |\n",
      "| 5.0000e-01 | 3.6803e-01 | 1.5238e-04 | 7.8247e+00 | 3.4546e-02 |\n",
      "| 2.5000e-01 | 3.6793e-01 | 5.5054e-05 | 1.4687e+00 | 4.2175e-04 |\n",
      "| 1.2500e-01 | 3.6788e-01 | 3.9268e-06 | 3.8094e+00 | 1.0822e-02 |\n",
      "| 6.2500e-02 | 3.6788e-01 | 2.5007e-07 | 3.9729e+00 | 1.5204e-02 |\n",
      "| 3.1250e-02 | 3.6788e-01 | 1.5647e-08 | 3.9984e+00 | 1.6315e-02 |\n",
      "| 1.5625e-02 | 3.6788e-01 | 9.7677e-10 | 4.0017e+00 | 1.6506e-02 |\n",
      "| 7.8125e-03 | 3.6788e-01 | 6.0987e-11 | 4.0014e+00 | 1.6486e-02 |\n",
      "| 3.9062e-03 | 3.6788e-01 | 3.8091e-12 | 4.0010e+00 | 1.6448e-02 |\n",
      "| 1.9531e-03 | 3.6788e-01 | 2.3814e-13 | 3.9996e+00 | 1.6320e-02 |\n"
     ]
    }
   ],
   "source": [
    "def f(x, y): return -2*x*y\n",
    "def f_exact(x): return exp(-x**2)\n",
    "\n",
    "x0, xend = 0, 1\n",
    "y0 = 1\n",
    "h, n = 1, 10\n",
    "\n",
    "results = convergence_table_ode(f, f_exact, x0, xend, y0, h, n, RK4)\n",
    "steps = [data[0] for data in results]\n",
    "errors = [data[2] for data in results]\n",
    "\n",
    "# Printing\n",
    "header = \"|{:^12}|{:^12}|{:^12}|{:^12}|{:^12}|\".format(\"Step size\", \"Numerical\", \"Error\", \"Order\", 'Constant')\n",
    "print(header)\n",
    "print('='*len(header))\n",
    "for data in results:\n",
    "    print(\"|{:^12.4e}|{:^12.4e}|{:^12.4e}|{:^12.4e}|{:^12.4e}|\".format(*data))"
   ]
  },
  {
   "cell_type": "code",
   "execution_count": 1,
   "metadata": {},
   "outputs": [
    {
     "ename": "NameError",
     "evalue": "name 'array' is not defined",
     "output_type": "error",
     "traceback": [
      "\u001b[1;31m---------------------------------------------------------------------------\u001b[0m",
      "\u001b[1;31mNameError\u001b[0m                                 Traceback (most recent call last)",
      "\u001b[1;32m<ipython-input-1-5a710d8ee23d>\u001b[0m in \u001b[0;36m<module>\u001b[1;34m()\u001b[0m\n\u001b[0;32m      1\u001b[0m \u001b[0mx0\u001b[0m\u001b[1;33m,\u001b[0m \u001b[0mxend\u001b[0m \u001b[1;33m=\u001b[0m \u001b[1;36m0\u001b[0m\u001b[1;33m,\u001b[0m \u001b[1;36m10\u001b[0m\u001b[1;33m\u001b[0m\u001b[0m\n\u001b[1;32m----> 2\u001b[1;33m \u001b[0my0\u001b[0m \u001b[1;33m=\u001b[0m \u001b[0marray\u001b[0m\u001b[1;33m(\u001b[0m\u001b[1;33m[\u001b[0m\u001b[1;36m2\u001b[0m\u001b[1;33m,\u001b[0m \u001b[1;36m0.5\u001b[0m\u001b[1;33m]\u001b[0m\u001b[1;33m)\u001b[0m\u001b[1;33m\u001b[0m\u001b[0m\n\u001b[0m\u001b[0;32m      3\u001b[0m \u001b[1;33m\u001b[0m\u001b[0m\n\u001b[0;32m      4\u001b[0m \u001b[1;32mfor\u001b[0m \u001b[0mi\u001b[0m\u001b[1;33m,\u001b[0m \u001b[0mmethod\u001b[0m \u001b[1;32min\u001b[0m \u001b[0menumerate\u001b[0m\u001b[1;33m(\u001b[0m\u001b[1;33m[\u001b[0m\u001b[0mRK4\u001b[0m\u001b[1;33m,\u001b[0m \u001b[0mheun\u001b[0m\u001b[1;33m]\u001b[0m\u001b[1;33m)\u001b[0m\u001b[1;33m:\u001b[0m\u001b[1;33m\u001b[0m\u001b[0m\n\u001b[0;32m      5\u001b[0m     \u001b[1;32mfor\u001b[0m \u001b[0mj\u001b[0m\u001b[1;33m,\u001b[0m \u001b[0mh\u001b[0m \u001b[1;32min\u001b[0m \u001b[0menumerate\u001b[0m\u001b[1;33m(\u001b[0m\u001b[1;33m[\u001b[0m\u001b[1;36m0.1\u001b[0m\u001b[1;33m,\u001b[0m \u001b[1;36m0.5\u001b[0m\u001b[1;33m]\u001b[0m\u001b[1;33m,\u001b[0m \u001b[1;36m1\u001b[0m\u001b[1;33m)\u001b[0m\u001b[1;33m:\u001b[0m\u001b[1;33m\u001b[0m\u001b[0m\n",
      "\u001b[1;31mNameError\u001b[0m: name 'array' is not defined"
     ]
    }
   ],
   "source": [
    "x0, xend = 0, 10\n",
    "y0 = array([2, 0.5])\n",
    "\n",
    "for i, method in enumerate([RK4, heun]):\n",
    "    for j, h in enumerate([0.1, 0.5], 1):\n",
    "        x_num, y_num = ode_solver(lotka_volterra, x0, xend, y0, h, method=method)\n",
    "        \n",
    "        subplot(2, 2, 2*i + j)\n",
    "        plot(x_num, y_num, linewidth=1.0)\n",
    "        title(f\"Lotka-Voltera - {method.__name__} (h={h})\")\n",
    "\n",
    "tight_layout()"
   ]
  }
 ],
 "metadata": {
  "kernelspec": {
   "display_name": "Python 3",
   "language": "python",
   "name": "python3"
  },
  "language_info": {
   "codemirror_mode": {
    "name": "ipython",
    "version": 3
   },
   "file_extension": ".py",
   "mimetype": "text/x-python",
   "name": "python",
   "nbconvert_exporter": "python",
   "pygments_lexer": "ipython3",
   "version": "3.7.0"
  }
 },
 "nbformat": 4,
 "nbformat_minor": 2
}
