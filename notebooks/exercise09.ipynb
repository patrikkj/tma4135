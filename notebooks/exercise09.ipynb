{
 "cells": [
  {
   "cell_type": "markdown",
   "metadata": {},
   "source": [
    "### Oppgave 1"
   ]
  },
  {
   "cell_type": "code",
   "execution_count": 1,
   "metadata": {},
   "outputs": [],
   "source": [
    "%matplotlib inline\n",
    "\n",
    "from numpy import *\n",
    "from numpy.linalg import solve, norm\n",
    "from matplotlib.pyplot import *\n",
    "from math import factorial\n",
    "newparams = {'figure.figsize': (8.0, 4.0), 'axes.grid': True,\n",
    "             'lines.markersize': 8, 'lines.linewidth': 2,\n",
    "             'font.size': 14}\n",
    "rcParams.update(newparams)"
   ]
  },
  {
   "cell_type": "code",
   "execution_count": 2,
   "metadata": {},
   "outputs": [],
   "source": [
    "def simpson(f, a, b, m=10):\n",
    "# Find an approximation to an integral by the composite Simpson's method:\n",
    "# Input:  \n",
    "#   f:    integrand\n",
    "#   a, b: integration interval\n",
    "#   m:    number of subintervals\n",
    "# Output: The approximation to the integral\n",
    "    n = 2*m\n",
    "    x_noder = linspace(a, b, n+1)       # equidistributed nodes from a to b \n",
    "    h = (b-a)/n                         # stepsize\n",
    "    S1 = f(x_noder[0]) + f(x_noder[n])  # S1 = f(x_0)+f(x_n)\n",
    "    S2 = sum(f(x_noder[1:n:2]))         # S2 = f(x_1)+f(x_3)+...+f(x_m)\n",
    "    S3 = sum(f(x_noder[2:n-1:2]))       # S3 = f(x_2)+f(x_4)+...+f(x_{m-1})\n",
    "    S = h*(S1 + 4*S2 + 2*S3)/3\n",
    "    return S"
   ]
  },
  {
   "cell_type": "code",
   "execution_count": 3,
   "metadata": {},
   "outputs": [],
   "source": [
    "def create_convergence_plot_data(f, I, a, b, m=1, n=10):\n",
    "    \"\"\"\n",
    "    Creates a list of tuples of the form (h, Q, E, p, C).\n",
    "        f : Integrand\n",
    "        I : Exact value of definite integral\n",
    "        a : Start node\n",
    "        b : End node\n",
    "        m : Number of intervals to pass to Q(f, a, b, m)\n",
    "        n : Number of iterations\n",
    "    \"\"\"\n",
    "    # Initial setup\n",
    "    h = (b-a)/(2*m)\n",
    "    p = 0\n",
    "    quadratures = []\n",
    "    steps = []\n",
    "    errors = []\n",
    "    orders = [nan]\n",
    "    constants = [nan]\n",
    "\n",
    "    for _ in range(n):\n",
    "        S = simpson(f, a, b, m)\n",
    "        E = abs(I - S)\n",
    "        h = (b-a) / (2*m)\n",
    "        quadratures.append(S)\n",
    "        steps.append(h)\n",
    "        errors.append(E)\n",
    "        m *= 2\n",
    "\n",
    "    # Calculate p and c\n",
    "    for e_0, e_1, h_0, h_1 in zip(errors, errors[1:], steps, steps[1:]):\n",
    "        p = log(e_1/e_0)/log(h_1/h_0)\n",
    "        C = e_1/h_1**p\n",
    "        orders.append(p)\n",
    "        constants.append(C)\n",
    "    \n",
    "    return list(zip(steps, quadratures, errors, orders, constants))"
   ]
  },
  {
   "cell_type": "code",
   "execution_count": 4,
   "metadata": {},
   "outputs": [
    {
     "name": "stdout",
     "output_type": "stream",
     "text": [
      "| Step size  | Quadrature |   Error    |   Order    |  Constant  |\n",
      "==================================================================\n",
      "| 1.0000e+00 | 7.8347e-01 | 4.7709e-02 |    nan     |    nan     |\n",
      "| 5.0000e-01 | 7.3913e-01 | 3.3717e-03 | 3.8227e+00 | 4.7709e-02 |\n",
      "| 2.5000e-01 | 7.3598e-01 | 2.1762e-04 | 3.9536e+00 | 5.2240e-02 |\n",
      "| 1.2500e-01 | 7.3577e-01 | 1.3712e-05 | 3.9883e+00 | 5.4811e-02 |\n",
      "| 6.2500e-02 | 7.3576e-01 | 8.5877e-07 | 3.9971e+00 | 5.5823e-02 |\n",
      "| 3.1250e-02 | 7.3576e-01 | 5.3701e-08 | 3.9993e+00 | 5.6166e-02 |\n",
      "| 1.5625e-02 | 7.3576e-01 | 3.3567e-09 | 3.9998e+00 | 5.6273e-02 |\n",
      "| 7.8125e-03 | 7.3576e-01 | 2.0980e-10 | 4.0000e+00 | 5.6306e-02 |\n",
      "| 3.9062e-03 | 7.3576e-01 | 1.3113e-11 | 4.0000e+00 | 5.6317e-02 |\n",
      "| 1.9531e-03 | 7.3576e-01 | 8.1946e-13 | 4.0001e+00 | 5.6364e-02 |\n"
     ]
    },
    {
     "data": {
      "image/png": "[encoded data removed]",
      "text/plain": [
       "<Figure size 432x288 with 1 Axes>"
      ]
     },
     "metadata": {
      "needs_background": "light"
     },
     "output_type": "display_data"
    }
   ],
   "source": [
    "def f(x):\n",
    "    return x*exp(x)\n",
    "\n",
    "# Exact result\n",
    "I = 2/exp(1)\n",
    "\n",
    "results = create_convergence_plot_data(f, I, -1, 1, m=1)\n",
    "steps = [data[0] for data in results]\n",
    "errors = [data[2] for data in results]\n",
    "\n",
    "# Printing\n",
    "header = \"|{:^12}|{:^12}|{:^12}|{:^12}|{:^12}|\".format(\"Step size\", \"Quadrature\", \"Error\", \"Order\", 'Constant')\n",
    "print(header)\n",
    "print('='*len(header))\n",
    "for data in results:\n",
    "    print(\"|{:^12.4e}|{:^12.4e}|{:^12.4e}|{:^12.4e}|{:^12.4e}|\".format(*data))\n",
    "    \n",
    "# Convergence plot\n",
    "clf()\n",
    "loglog(steps, errors, 'o-')\n",
    "xlabel('h')\n",
    "ylabel('E(h)')\n",
    "title('Convergence plot for the simpson rule')\n",
    "grid(True)"
   ]
  },
  {
   "cell_type": "code",
   "execution_count": 5,
   "metadata": {},
   "outputs": [
    {
     "name": "stdout",
     "output_type": "stream",
     "text": [
      "| Step size  | Quadrature |   Error    |   Order    |  Constant  |\n",
      "==================================================================\n",
      "| 1.0000e+00 | 1.3333e+00 | 4.4217e-01 |    nan     |    nan     |\n",
      "| 5.0000e-01 | 1.6354e+00 | 1.4010e-01 | 1.6582e+00 | 4.4217e-01 |\n",
      "| 2.5000e-01 | 1.7289e+00 | 4.6639e-02 | 1.5868e+00 | 4.2082e-01 |\n",
      "| 1.2500e-01 | 1.7595e+00 | 1.6041e-02 | 1.5398e+00 | 3.9426e-01 |\n",
      "| 6.2500e-02 | 1.7699e+00 | 5.6006e-03 | 1.5181e+00 | 3.7692e-01 |\n",
      "| 3.1250e-02 | 1.7735e+00 | 1.9685e-03 | 1.5085e+00 | 3.6701e-01 |\n",
      "| 1.5625e-02 | 1.7748e+00 | 6.9397e-04 | 1.5041e+00 | 3.6144e-01 |\n",
      "| 7.8125e-03 | 1.7753e+00 | 2.4501e-04 | 1.5020e+00 | 3.5831e-01 |\n",
      "| 3.9062e-03 | 1.7754e+00 | 8.6566e-05 | 1.5010e+00 | 3.5654e-01 |\n",
      "| 1.9531e-03 | 1.7755e+00 | 3.0595e-05 | 1.5005e+00 | 3.5555e-01 |\n"
     ]
    },
    {
     "data": {
      "image/png": "[encoded data removed]",
      "text/plain": [
       "<Figure size 432x288 with 2 Axes>"
      ]
     },
     "metadata": {
      "needs_background": "light"
     },
     "output_type": "display_data"
    }
   ],
   "source": [
    "def f(x):\n",
    "    return (1 - x**2)**0.5 * exp(x)\n",
    "\n",
    "subplot (2, 1, 1)\n",
    "x = linspace(-1, 1, 1000)\n",
    "y = f(x)\n",
    "title('Integrand')\n",
    "plot(x, y)\n",
    "\n",
    "subplot (2, 1, 2)\n",
    "# Exact result\n",
    "I = 1.7754996892121809469\n",
    "\n",
    "results = create_convergence_plot_data(f, I, -1, 1, m=1)\n",
    "steps = [data[0] for data in results]\n",
    "errors = [data[2] for data in results]\n",
    "\n",
    "# Printing\n",
    "header = \"|{:^12}|{:^12}|{:^12}|{:^12}|{:^12}|\".format(\"Step size\", \"Quadrature\", \"Error\", \"Order\", 'Constant')\n",
    "print(header)\n",
    "print('='*len(header))\n",
    "for data in results:\n",
    "    print(\"|{:^12.4e}|{:^12.4e}|{:^12.4e}|{:^12.4e}|{:^12.4e}|\".format(*data))\n",
    "    \n",
    "# Convergence plot\n",
    "loglog(steps, errors, 'o-')\n",
    "xlabel('h')\n",
    "ylabel('E(h)')\n",
    "title('Convergence plot, part b')\n",
    "grid(True);\n",
    "tight_layout()"
   ]
  },
  {
   "cell_type": "markdown",
   "metadata": {},
   "source": [
    "##### Kommentar\n",
    "I Simpsons metode vil det å doble antall delintervaller svare til å halvere steglengden.\n",
    "Antagelsen om at felien kan skrives på formen C * h**p holder ikke"
   ]
  },
  {
   "cell_type": "markdown",
   "metadata": {},
   "source": [
    "### Oppgave 3"
   ]
  },
  {
   "cell_type": "code",
   "execution_count": 6,
   "metadata": {},
   "outputs": [],
   "source": [
    "def newton(f, df, x0, tol=1.e-8, max_iter=30):\n",
    "    # Solve f(x)=0 by Newtons method\n",
    "    # The output of each iteration is printed\n",
    "    # Input:\n",
    "    #   f, df:   The function f and its derivate f'.\n",
    "    #   x0:  Initial values\n",
    "    #   tol: The tolerance\n",
    "    # Output:\n",
    "    #   The root and the number of iterations\n",
    "    x = x0\n",
    "    print('k ={:3d}, x = {:18.15f}, f(x) = {:10.3e}'.format(0, x, f(x)))\n",
    "    for k in range(max_iter):\n",
    "        fx = f(x)\n",
    "        if abs(fx) < tol:           # Accept the solution \n",
    "            break \n",
    "        x = x - fx/df(x)            # Newton-iteration\n",
    "        print('k ={:3d}, x = {:18.15f}, f(x) = {:10.3e}'.format(k+1, x, f(x)))\n",
    "    return x, k+1"
   ]
  },
  {
   "cell_type": "code",
   "execution_count": 7,
   "metadata": {},
   "outputs": [
    {
     "data": {
      "image/png": "[encoded data removed]",
      "text/plain": [
       "<Figure size 432x288 with 1 Axes>"
      ]
     },
     "metadata": {
      "needs_background": "light"
     },
     "output_type": "display_data"
    }
   ],
   "source": [
    "def f(x):\n",
    "    return exp(x) + x**2 - x - 4\n",
    "\n",
    "def df(x):\n",
    "    return exp(x) + 2*x - 1\n",
    "\n",
    "x = linspace(1, 2, 100)\n",
    "xlabel(\"x\")\n",
    "ylabel(\"f(x)\")\n",
    "plot(x, f(x));"
   ]
  },
  {
   "cell_type": "code",
   "execution_count": 8,
   "metadata": {},
   "outputs": [
    {
     "name": "stdout",
     "output_type": "stream",
     "text": [
      "k =  0, x =  1.300000000000000, f(x) =  5.930e-02\n",
      "k =  1, x =  1.288746758560088, f(x) =  3.581e-04\n",
      "k =  2, x =  1.288677969382023, f(x) =  1.332e-08\n",
      "k =  3, x =  1.288677966823868, f(x) = -4.441e-16\n"
     ]
    }
   ],
   "source": [
    "newton(f, df, 1.3);"
   ]
  },
  {
   "cell_type": "code",
   "execution_count": 9,
   "metadata": {},
   "outputs": [],
   "source": [
    "def fixpoint(g, x0, tol=1.e-8, max_iter=30):\n",
    "    # Solve x=g(x) by fixed point iterations\n",
    "    # The output of each iteration is printed\n",
    "    # Input:\n",
    "    #   g:   The function g(x)\n",
    "    #   x0:  Initial values\n",
    "    #   tol: The tolerance\n",
    "    # Output:\n",
    "    #   The root and the number of iterations\n",
    "    x = x0\n",
    "    print('k ={:3d}, x = {:14.10f}'.format(0, x))  \n",
    "    for k in range(max_iter):        \n",
    "        x_old = x                        # Store old values for error estimation \n",
    "        x = g(x)                         # The iteration\n",
    "        err = abs(x-x_old)               # Error estimate\n",
    "        print('k ={:3d}, x = {:14.10f}'.format(k+1, x))\n",
    "        if err < tol:          # The solution is accepted \n",
    "            break\n",
    "    return x, k+1"
   ]
  },
  {
   "cell_type": "code",
   "execution_count": 10,
   "metadata": {},
   "outputs": [
    {
     "name": "stdout",
     "output_type": "stream",
     "text": [
      "\n",
      "Function: 'i'\n",
      "k =  0, x =   1.5000000000\n",
      "k =  1, x =   1.1786549963\n",
      "k =  2, x =   1.3322149248\n",
      "k =  3, x =   1.2690350905\n",
      "k =  4, x =   1.2970764687\n",
      "k =  5, x =   1.2850003170\n",
      "k =  6, x =   1.2902719159\n",
      "k =  7, x =   1.2879840175\n",
      "k =  8, x =   1.2889795000\n",
      "k =  9, x =   1.2885468343\n",
      "k = 10, x =   1.2887349735\n",
      "k = 11, x =   1.2886531806\n",
      "k = 12, x =   1.2886887430\n",
      "k = 13, x =   1.2886732816\n",
      "k = 14, x =   1.2886800038\n",
      "k = 15, x =   1.2886770812\n",
      "k = 16, x =   1.2886783519\n",
      "k = 17, x =   1.2886777994\n",
      "k = 18, x =   1.2886780396\n",
      "k = 19, x =   1.2886779352\n",
      "k = 20, x =   1.2886779806\n",
      "k = 21, x =   1.2886779608\n",
      "k = 22, x =   1.2886779694\n",
      "\n",
      "Function: 'ii'\n",
      "k =  0, x =   1.5000000000\n",
      "k =  1, x =   1.0091139329\n",
      "k =  2, x =   1.5053054929\n",
      "k =  3, x =   0.9998878264\n",
      "k =  4, x =   1.5105995169\n",
      "k =  5, x =   0.9905322092\n",
      "k =  6, x =   1.5158710552\n",
      "k =  7, x =   0.9810634053\n",
      "k =  8, x =   1.5211088914\n",
      "k =  9, x =   0.9714992449\n",
      "k = 10, x =   1.5263017049\n",
      "k = 11, x =   0.9618589916\n",
      "k = 12, x =   1.5314381740\n",
      "k = 13, x =   0.9521632379\n",
      "k = 14, x =   1.5365070839\n",
      "k = 15, x =   0.9424337713\n",
      "k = 16, x =   1.5414974395\n",
      "k = 17, x =   0.9326934087\n",
      "k = 18, x =   1.5463985775\n",
      "k = 19, x =   0.9229658020\n",
      "k = 20, x =   1.5512002794\n",
      "k = 21, x =   0.9132752165\n",
      "k = 22, x =   1.5558928786\n",
      "k = 23, x =   0.9036462847\n",
      "k = 24, x =   1.5604673626\n",
      "k = 25, x =   0.8941037426\n",
      "k = 26, x =   1.5649154652\n",
      "k = 27, x =   0.8846721509\n",
      "k = 28, x =   1.5692297481\n",
      "k = 29, x =   0.8753756100\n",
      "k = 30, x =   1.5734036689\n",
      "\n",
      "Function: 'iii'\n",
      "k =  0, x =   1.5000000000\n",
      "k =  1, x =   2.7316890703\n",
      "k =  2, x =  18.8209324059\n",
      "k =  3, x = 149220368.2729534507\n",
      "k =  4, x =            inf\n",
      "k =  5, x =            inf\n",
      "k =  6, x =            inf\n",
      "k =  7, x =            inf\n",
      "k =  8, x =            inf\n",
      "k =  9, x =            inf\n",
      "k = 10, x =            inf\n",
      "k = 11, x =            inf\n",
      "k = 12, x =            inf\n",
      "k = 13, x =            inf\n",
      "k = 14, x =            inf\n",
      "k = 15, x =            inf\n",
      "k = 16, x =            inf\n",
      "k = 17, x =            inf\n",
      "k = 18, x =            inf\n",
      "k = 19, x =            inf\n",
      "k = 20, x =            inf\n",
      "k = 21, x =            inf\n",
      "k = 22, x =            inf\n",
      "k = 23, x =            inf\n",
      "k = 24, x =            inf\n",
      "k = 25, x =            inf\n",
      "k = 26, x =            inf\n",
      "k = 27, x =            inf\n",
      "k = 28, x =            inf\n",
      "k = 29, x =            inf\n",
      "k = 30, x =            inf\n"
     ]
    },
    {
     "name": "stderr",
     "output_type": "stream",
     "text": [
      "C:\\Users\\Patrik\\Anaconda3\\lib\\site-packages\\ipykernel_launcher.py:15: RuntimeWarning: invalid value encountered in double_scalars\n",
      "  from ipykernel import kernelapp as app\n"
     ]
    }
   ],
   "source": [
    "x0 = 1.5\n",
    "\n",
    "def g_i(x):\n",
    "    return log(4 + x - x**2)\n",
    "\n",
    "def g_ii(x):\n",
    "    return sqrt(-exp(x) + x + 4)\n",
    "\n",
    "def g_iii(x):\n",
    "    return exp(x) + x**2 - 4\n",
    "\n",
    "print(\"\\nFunction: 'i'\")\n",
    "fixpoint(g_i, 1.5)\n",
    "\n",
    "print(\"\\nFunction: 'ii'\")\n",
    "fixpoint(g_ii, 1.5)\n",
    "\n",
    "print(\"\\nFunction: 'iii'\")\n",
    "fixpoint(g_iii, 1.5);"
   ]
  },
  {
   "cell_type": "markdown",
   "metadata": {},
   "source": [
    "##### Kommentar\n",
    "Vi ser at funksjon i) er den eneste som konvergerer."
   ]
  },
  {
   "cell_type": "markdown",
   "metadata": {},
   "source": [
    "### Oppgave 5"
   ]
  },
  {
   "cell_type": "code",
   "execution_count": 11,
   "metadata": {},
   "outputs": [],
   "source": [
    "def newton_system(f, jac, x0, tol = 1.e-10, max_iter=20):\n",
    "    x = x0\n",
    "    print('k ={:3d}, x = '.format(0), x)\n",
    "    for k in range(max_iter):\n",
    "        fx = f(x)\n",
    "        if norm(fx, inf) < tol:          # The solution is accepted. \n",
    "            break\n",
    "        Jx = jac(x)\n",
    "        delta = solve(Jx, -fx) \n",
    "        x = x + delta            \n",
    "        print('k ={:3d}, x = '.format(k+1), x)\n",
    "    return x, k"
   ]
  },
  {
   "cell_type": "code",
   "execution_count": 12,
   "metadata": {},
   "outputs": [
    {
     "name": "stdout",
     "output_type": "stream",
     "text": [
      "k =  0, x =  [2. 0.]\n",
      "k =  1, x =  [2.  0.5]\n",
      "k =  2, x =  [1.93333333 0.51666667]\n",
      "k =  3, x =  [1.93185274 0.51763705]\n",
      "k =  4, x =  [1.93185165 0.51763809]\n",
      "k =  5, x =  [1.93185165 0.51763809]\n"
     ]
    }
   ],
   "source": [
    "def f(x):               \n",
    "    y = array([\n",
    "        x[0]**2 + x[1]**2 - 4, \n",
    "        x[0] * x[1] - 1\n",
    "    ])\n",
    "    return y\n",
    "\n",
    "def jac(x):\n",
    "    J = array([[2*x[0], 2*x[1]],\n",
    "               [x[1], x[0]]])\n",
    "    return J\n",
    "\n",
    "x0 = array([2.0, 0.0])  \n",
    "max_iter = 20\n",
    "x, nit = newton_system(f, jac, x0, tol = 1.e-12, max_iter = max_iter) "
   ]
  },
  {
   "cell_type": "code",
   "execution_count": 13,
   "metadata": {},
   "outputs": [
    {
     "name": "stdout",
     "output_type": "stream",
     "text": [
      "k =  0, x =  [2. 0.]\n",
      "k =  1, x =  [1.5 0.5]\n",
      "k =  2, x =  [1.25 0.75]\n",
      "k =  3, x =  [1.125 0.875]\n",
      "k =  4, x =  [1.0625 0.9375]\n",
      "k =  5, x =  [1.03125 0.96875]\n",
      "k =  6, x =  [1.015625 0.984375]\n",
      "k =  7, x =  [1.0078125 0.9921875]\n",
      "k =  8, x =  [1.00390625 0.99609375]\n",
      "k =  9, x =  [1.00195312 0.99804688]\n",
      "k = 10, x =  [1.00097656 0.99902344]\n",
      "k = 11, x =  [1.00048828 0.99951172]\n",
      "k = 12, x =  [1.00024414 0.99975586]\n",
      "k = 13, x =  [1.00012207 0.99987793]\n",
      "k = 14, x =  [1.00006104 0.99993896]\n",
      "k = 15, x =  [1.00003052 0.99996948]\n",
      "k = 16, x =  [1.00001526 0.99998474]\n",
      "k = 17, x =  [1.00000763 0.99999237]\n",
      "k = 18, x =  [1.00000381 0.99999619]\n",
      "k = 19, x =  [1.00000191 0.99999809]\n",
      "k = 20, x =  [1.00000095 0.99999905]\n"
     ]
    }
   ],
   "source": [
    "def f(x):               \n",
    "    y = array([\n",
    "        x[0]**2 + x[1]**2 - 2, \n",
    "        x[0] * x[1] - 1\n",
    "    ])\n",
    "    return y\n",
    "\n",
    "def jac(x):\n",
    "    J = array([[2*x[0], 2*x[1]],\n",
    "               [x[1], x[0]]])\n",
    "    return J\n",
    "\n",
    "x0 = array([2.0, 0.0])  \n",
    "max_iter = 20\n",
    "x, nit = newton_system(f, jac, x0, tol = 1.e-12, max_iter = max_iter) "
   ]
  },
  {
   "cell_type": "code",
   "execution_count": null,
   "metadata": {},
   "outputs": [],
   "source": []
  },
  {
   "cell_type": "code",
   "execution_count": null,
   "metadata": {},
   "outputs": [],
   "source": []
  }
 ],
 "metadata": {
  "celltoolbar": "Slideshow",
  "kernelspec": {
   "display_name": "Python 3",
   "language": "python",
   "name": "python3"
  },
  "language_info": {
   "codemirror_mode": {
    "name": "ipython",
    "version": 3
   },
   "file_extension": ".py",
   "mimetype": "text/x-python",
   "name": "python",
   "nbconvert_exporter": "python",
   "pygments_lexer": "ipython3",
   "version": "3.7.0"
  }
 },
 "nbformat": 4,
 "nbformat_minor": 2
}
