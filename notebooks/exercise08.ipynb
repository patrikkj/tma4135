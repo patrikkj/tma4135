{
 "cells": [
  {
   "cell_type": "code",
   "execution_count": 1,
   "metadata": {},
   "outputs": [],
   "source": [
    "from numpy import *\n",
    "from matplotlib.pyplot import *\n",
    "newparams = {'figure.figsize': (8.0, 4.0), 'axes.grid': True,\n",
    "             'lines.markersize': 8, 'lines.linewidth': 2,\n",
    "             'font.size': 14}\n",
    "rcParams.update(newparams)"
   ]
  },
  {
   "cell_type": "markdown",
   "metadata": {},
   "source": [
    "### Oppgave 1"
   ]
  },
  {
   "cell_type": "code",
   "execution_count": 2,
   "metadata": {},
   "outputs": [],
   "source": [
    "def evaluate(coeffs, x_data, reversed=False):\n",
    "    \"\"\"\n",
    "    Horner's method for evaulating polynomials\n",
    "        coeffs : List of coefficients from a_n to a_0\n",
    "        x_data : Singleton, or numpy array of x-values for evaluation.\n",
    "    Polynomial evaluated at x_data, either as singleton or numpy array.\n",
    "    \"\"\"\n",
    "\n",
    "    # In case input coefficients is in reverse order\n",
    "    if reversed:\n",
    "        coeffs = coeffs[::-1]\n",
    "\n",
    "    # Horner's method\n",
    "    result = coeffs[0]\n",
    "    for c in coeffs[1:]:\n",
    "        result = (result * x_data) + c\n",
    "    return result\n",
    "\n",
    "def div_diff(x_data, y_data):\n",
    "    \"\"\"\n",
    "    Creates a table of divided differences, to be used for netwon interpolation.\n",
    "        x_data : Array of x-values.\n",
    "        y_data : Array of y-values.\n",
    "    2d-Array of divided differences.\n",
    "    \"\"\"\n",
    "\n",
    "    # Initialize table for storing divided differences\n",
    "    n = len(x_data)\n",
    "    D = zeros((n, n))\n",
    "\n",
    "    # Fill first column of table with y-values.\n",
    "    D[:, 0] = y_data\n",
    "\n",
    "    # Calculate differences\n",
    "    for col in range(1, n):\n",
    "        for row in range(n - col):\n",
    "            D[row][col] = (D[row + 1][col - 1] - D[row][col - 1]) / (x_data[row + col] - x_data[row])\n",
    "\n",
    "    return D\n",
    "\n",
    "def newton_interpolation(x_data, y_data):\n",
    "    \"\"\"\n",
    "    Implementation of Newton Interpolation.\n",
    "        x_data : Array of x-values.\n",
    "        y_data : Array of y-values.\n",
    "    Interpolation polynomial, represented by a list of coefficients.\n",
    "    \"\"\"\n",
    "\n",
    "    # Table of divided differences\n",
    "    D = div_diff(x_data, y_data)\n",
    "    coeffs = D[0]\n",
    "\n",
    "    # Polynomial represented as coefficients\n",
    "    p = zeros(len(x_data))\n",
    "\n",
    "    # (x - x0)(x - x1) ... (x - xn)\n",
    "    x_poly = array([1])\n",
    "\n",
    "    # Construct polynomial by summing smaller polynomials\n",
    "    for i, c in enumerate(coeffs):\n",
    "        # p_n = c * (x - x_0)(x - x_1)...(x - x_[n-1]) + p_[n-1]\n",
    "        p[-i - 1:] += c * x_poly\n",
    "\n",
    "        # Update x_poly (x - x0)(x - x1) ... (x - xn)\n",
    "        x_shift = append(x_poly, 0)\n",
    "        x_scale = insert(x_poly, 0, 0) * x_data[i]\n",
    "        x_poly = x_shift - x_scale\n",
    "\n",
    "    return p"
   ]
  },
  {
   "cell_type": "code",
   "execution_count": 3,
   "metadata": {},
   "outputs": [
    {
     "name": "stdout",
     "output_type": "stream",
     "text": [
      "| Steps  |      Approx.       |       Error        |\n",
      "====================================================\n",
      "|   2    |     1.70000000     |     3.2051e-02     |\n",
      "|   4    |     1.73463203     |    -2.5812e-03     |\n",
      "|   8    |     1.73204590     |     4.9038e-06     |\n",
      "|   16   |     1.73205081     |    -1.7032e-09     |\n"
     ]
    }
   ],
   "source": [
    "def f(x):\n",
    "    return x**2 - 3\n",
    "\n",
    "# Used for calculating error\n",
    "exact = 3**0.5\n",
    "\n",
    "results = []\n",
    "\n",
    "for n in [2, 4, 8, 16]:\n",
    "    x_data = linspace(1, 3, n + 1)\n",
    "    y_data = f(x_data)\n",
    "    \n",
    "    # Swap x_data and y_data in order to find the inverse interpolation.\n",
    "    p = newton_interpolation(y_data, x_data)\n",
    "    \n",
    "    # Approximated root of f(x) with corresponding error\n",
    "    x_0 = evaluate(p, 0)\n",
    "    e_0 = exact - x_0\n",
    "    \n",
    "    results.append((n, x_0, e_0))\n",
    "    \n",
    "    \n",
    "# Printing\n",
    "header = \"|{:^8}|{:^20}|{:^20}|\".format(\"Steps\", \"Approx.\", \"Error\")\n",
    "print(header)\n",
    "print('='*len(header))\n",
    "for result in results:\n",
    "    print(\"|{:^8}|{:^20.8f}|{:^20.4e}|\".format(*result))"
   ]
  },
  {
   "cell_type": "markdown",
   "metadata": {},
   "source": [
    "### Oppgave 3"
   ]
  },
  {
   "cell_type": "code",
   "execution_count": 4,
   "metadata": {},
   "outputs": [],
   "source": [
    "def simpson(f, a, b, m=10):\n",
    "    # Find an approximation to an integral by the composite Simpson's method:\n",
    "    # Input:  \n",
    "    #   f:    integrand\n",
    "    #   a, b: integration interval\n",
    "    #   m:    number of subintervals\n",
    "    # Output: The approximation to the integral\n",
    "    n = 2*m\n",
    "    x_noder = linspace(a, b, n+1)       # equidistributed nodes from a to b \n",
    "    h = (b-a)/n                         # stepsize\n",
    "    S1 = f(x_noder[0]) + f(x_noder[n])  # S1 = f(x_0)+f(x_n)\n",
    "    S2 = sum(f(x_noder[1:n:2]))         # S2 = f(x_1)+f(x_3)+...+f(x_m)\n",
    "    S3 = sum(f(x_noder[2:n-1:2]))       # S3 = f(x_2)+f(x_4)+...+f(x_{m-1})\n",
    "    S = h*(S1 + 4*S2 + 2*S3)/3\n",
    "    return S"
   ]
  },
  {
   "cell_type": "code",
   "execution_count": 5,
   "metadata": {},
   "outputs": [
    {
     "name": "stdout",
     "output_type": "stream",
     "text": [
      "Approx: 0.3180923766700149\tExact: 0.3180923728035784,\tError: -3.866436504296189e-09\n"
     ]
    }
   ],
   "source": [
    "def f(x):\n",
    "    return exp(-x)\n",
    "\n",
    "m = 26\n",
    "a, b = 1, 3\n",
    "\n",
    "approx = simpson(f, a, b, m)\n",
    "exact = exp(-1) - exp(-3)\n",
    "\n",
    "print(f\"Approx: {approx}\\tExact: {exact},\\tError: {exact-approx}\")"
   ]
  },
  {
   "cell_type": "markdown",
   "metadata": {},
   "source": [
    "### Oppgave 4"
   ]
  },
  {
   "cell_type": "code",
   "execution_count": 6,
   "metadata": {},
   "outputs": [],
   "source": [
    "def gauss_1(f, a, b):\n",
    "    h = (b - a)/2\n",
    "    c = (b + a)/2\n",
    "    \n",
    "    q_1 = f(c - sqrt(3/5)*h)\n",
    "    q_2 = f(c)\n",
    "    q_3 = f(c + sqrt(3/5)*h)\n",
    "    \n",
    "    return (h/9) * (5*q_1 + 8*q_2 + 5*q_3)\n",
    "\n",
    "def gauss_basic(f, a, b):\n",
    "    \"\"\"\n",
    "    Gauss–Legendre's quadrature with error estimate\n",
    "        f : integrand\n",
    "        a : lower integration limit\n",
    "        b : upper integration limit\n",
    "    Q_2(a, b) and the error estimate.\n",
    "    \"\"\"\n",
    "    \n",
    "    c = (b + a) / 2\n",
    "    Q_1 = gauss_1(f, a, b)\n",
    "    Q_2 = gauss_1(f, a, c) + gauss_1(f, c, b) \n",
    "    \n",
    "    error_estimate = 1/63 * (Q_2 - Q_1)\n",
    "    return Q_2, error_estimate"
   ]
  },
  {
   "cell_type": "code",
   "execution_count": 7,
   "metadata": {},
   "outputs": [
    {
     "name": "stdout",
     "output_type": "stream",
     "text": [
      "| Degree |     Quadrature     |      Integral      |       Error        |\n",
      "=========================================================================\n",
      "|   0    |     2.0000e+00     |     2.0000e+00     |     0.0000e+00     |\n",
      "|   1    |     0.0000e+00     |     0.0000e+00     |     0.0000e+00     |\n",
      "|   2    |     6.6667e-01     |     6.6667e-01     |     0.0000e+00     |\n",
      "|   3    |     0.0000e+00     |     0.0000e+00     |     0.0000e+00     |\n",
      "|   4    |     4.0000e-01     |     4.0000e-01     |     0.0000e+00     |\n",
      "|   5    |     0.0000e+00     |     0.0000e+00     |     0.0000e+00     |\n",
      "|   6    |     2.8500e-01     |     2.8571e-01     |     7.1429e-04     |\n",
      "|   7    |     0.0000e+00     |     0.0000e+00     |     0.0000e+00     |\n",
      "|   8    |     2.1692e-01     |     2.2222e-01     |     5.3056e-03     |\n",
      "|   9    |     0.0000e+00     |     0.0000e+00     |     0.0000e+00     |\n"
     ]
    }
   ],
   "source": [
    "poly = lambda t: lambda x: x**t\n",
    "\n",
    "a, b = -1, 1\n",
    "results = []\n",
    "\n",
    "for n in range(10):\n",
    "    # Creates a polynomial of the form x**n\n",
    "    f = poly(n)\n",
    "    \n",
    "    # Quadrature\n",
    "    Q, _ = gauss_basic(f, a, b)\n",
    "    \n",
    "    # Exact result\n",
    "    I_func = lambda x: poly(n+1)(x) / (n+1) # Expression for integral of polynomial\n",
    "    I = I_func(b) - I_func(a)\n",
    "    \n",
    "    # Error\n",
    "    E = I - Q\n",
    "    if abs(E) < 1.0e-12:\n",
    "        E = 0\n",
    "    \n",
    "    results.append((n, Q, I, E))\n",
    "    \n",
    "# Printing\n",
    "header = \"|{:^8}|{:^20}|{:^20}|{:^20}|\".format(\"Degree\", \"Quadrature\", \"Integral\", \"Error\")\n",
    "print(header)\n",
    "print('='*len(header))\n",
    "for result in results:\n",
    "    print(\"|{:^8}|{:^20.4e}|{:^20.4e}|{:^20.4e}|\".format(*result))"
   ]
  },
  {
   "cell_type": "code",
   "execution_count": 8,
   "metadata": {},
   "outputs": [],
   "source": [
    "def gauss_adaptive(f, a, b, tol = 1.e-6, level = 0, maks_level=100):\n",
    "    # Gauss's adaptive method\n",
    "    # Input:  \n",
    "    #   f:    integrand\n",
    "    #   a, b: integration interval\n",
    "    #   tol:  tolerance\n",
    "    #   level, maks_level: For the recursion. Just ignore them. \n",
    "    # Output:\n",
    "    #   The approximation to the integral\n",
    "    \n",
    "    Q, error_estimate = gauss_basic(f, a, b)    # The quadrature and the error estimate \n",
    "\n",
    "    if level >= maks_level:\n",
    "        print('Warning: Maximum number of levels used.')\n",
    "        return Q\n",
    "    \n",
    "    if abs(error_estimate) < tol:         # Accept the result, and return\n",
    "        result = Q + error_estimate      \n",
    "    else:\n",
    "        # Divide the interval in two, and apply the algorithm to each interval.\n",
    "        c = 0.5*(b+a)\n",
    "        result_left  = gauss_adaptive(f, a, c, tol = 0.5*tol, level = level+1)\n",
    "        result_right = gauss_adaptive(f, c, b, tol = 0.5*tol, level = level+1)\n",
    "        result = result_right + result_left\n",
    "    return result"
   ]
  },
  {
   "cell_type": "code",
   "execution_count": 9,
   "metadata": {},
   "outputs": [
    {
     "name": "stdout",
     "output_type": "stream",
     "text": [
      "|   Function Name    |     Quadrature     |       Exact        |       Error        |     Tolerance      |\n",
      "==========================================================================================================\n",
      "|         i          |    3.180924e-01    |    3.180924e-01    |   -1.436156e-08    |    1.000000e-03    |\n",
      "|         i          |    3.180924e-01    |    3.180924e-01    |   -1.436156e-08    |    1.000000e-06    |\n",
      "|         i          |    3.180924e-01    |    3.180924e-01    |   -2.475797e-13    |    1.000000e-10    |\n",
      "|         ii         |    3.941904e-01    |    3.802095e-01    |    1.398092e-02    |    1.000000e-03    |\n",
      "|         ii         |    3.802094e-01    |    3.802095e-01    |   -1.044586e-07    |    1.000000e-06    |\n",
      "|         ii         |    3.802095e-01    |    3.802095e-01    |   -4.870548e-13    |    1.000000e-10    |\n",
      "|        iii         |    4.133569e+01    |    4.132621e+01    |    9.475766e-03    |    1.000000e-03    |\n",
      "|        iii         |    4.132621e+01    |    4.132621e+01    |   -1.387976e-07    |    1.000000e-06    |\n",
      "|        iii         |    4.132621e+01    |    4.132621e+01    |    4.973799e-14    |    1.000000e-10    |\n"
     ]
    }
   ],
   "source": [
    "f = lambda x: exp(-x)\n",
    "g = lambda x: 1 / (1+16*x**2)\n",
    "h = lambda x: (1 / ((x - 0.3)**2 + 0.01)) + (1 / ((x - 0.9)**2 + 0.04))\n",
    "\n",
    "f_exact = exp(-1) - exp(-3)\n",
    "g_exact = 0.25 * (arctan(20) - arctan(0))\n",
    "h_exact = 41.326213804391148551\n",
    "\n",
    "funcs = {}               \n",
    "funcs['i'] = (f, f_exact, 1, 3)\n",
    "funcs['ii'] = (g, g_exact, 0, 5)\n",
    "funcs['iii'] = (h, h_exact, 0, 2)\n",
    "\n",
    "header = \"|{:^20}|{:^20}|{:^20}|{:^20}|{:^20}|\".format(\"Function Name\", \"Quadrature\", \"Exact\", \"Error\", \"Tolerance\")           \n",
    "print(header) \n",
    "print('='*len(header))\n",
    "\n",
    "for func_name, func_properties in funcs.items():\n",
    "    func, func_exact, a, b = func_properties\n",
    "    for tol in [1e-3, 1e-6, 1e-10]:\n",
    "        Q = gauss_adaptive(func, a, b, tol)\n",
    "        I = func_exact\n",
    "        E = Q - I\n",
    "        print(\"|{:^20}|{:^20.6e}|{:^20.6e}|{:^20.6e}|{:^20.6e}|\".format(func_name, Q, I, E, tol))"
   ]
  },
  {
   "cell_type": "code",
   "execution_count": null,
   "metadata": {},
   "outputs": [],
   "source": []
  }
 ],
 "metadata": {
  "kernelspec": {
   "display_name": "Python 3",
   "language": "python",
   "name": "python3"
  },
  "language_info": {
   "codemirror_mode": {
    "name": "ipython",
    "version": 3
   },
   "file_extension": ".py",
   "mimetype": "text/x-python",
   "name": "python",
   "nbconvert_exporter": "python",
   "pygments_lexer": "ipython3",
   "version": "3.7.0"
  }
 },
 "nbformat": 4,
 "nbformat_minor": 2
}
